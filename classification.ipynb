{
 "cells": [
  {
   "cell_type": "code",
   "execution_count": 1,
   "metadata": {},
   "outputs": [],
   "source": [
    "import pandas as pd\n",
    "import numpy as np\n",
    "import matplotlib.pyplot as plt\n",
    "from sklearn.preprocessing import LabelEncoder\n",
    "from sklearn.neighbors import KNeighborsClassifier\n",
    "from sklearn.model_selection import train_test_split\n",
    "from sklearn.metrics import classification_report\n",
    "from imblearn.over_sampling import SMOTE\n",
    "from sklearn.tree import DecisionTreeClassifier\n",
    "from sklearn import preprocessing"
   ]
  },
  {
   "cell_type": "code",
   "execution_count": 2,
   "metadata": {},
   "outputs": [],
   "source": [
    "df=pd.read_csv(r\"C:\\Users\\USER\\papaya\\Combined_Leaf.csv\")"
   ]
  },
  {
   "cell_type": "code",
   "execution_count": 3,
   "metadata": {},
   "outputs": [
    {
     "data": {
      "text/plain": [
       "array(['Fresh Papaya Leaf', 'Papaya Black Spot', 'Papaya Leaf Curl',\n",
       "       'Papaya Ringspot', 'Powdery Mildew'], dtype=object)"
      ]
     },
     "execution_count": 3,
     "metadata": {},
     "output_type": "execute_result"
    }
   ],
   "source": [
    "df['16'].unique()"
   ]
  },
  {
   "cell_type": "code",
   "execution_count": 4,
   "metadata": {},
   "outputs": [
    {
     "data": {
      "text/plain": [
       "Index(['Unnamed: 0', '0', '1', '2', '3', '4', '5', '6', '7', '8', '9', '10',\n",
       "       '11', '12', '13', '14', '15', '16'],\n",
       "      dtype='object')"
      ]
     },
     "execution_count": 4,
     "metadata": {},
     "output_type": "execute_result"
    }
   ],
   "source": [
    "df.columns"
   ]
  },
  {
   "cell_type": "code",
   "execution_count": 5,
   "metadata": {},
   "outputs": [],
   "source": [
    "df=df.drop(\"Unnamed: 0\",axis=1)"
   ]
  },
  {
   "cell_type": "code",
   "execution_count": 6,
   "metadata": {},
   "outputs": [
    {
     "data": {
      "text/html": [
       "<div>\n",
       "<style scoped>\n",
       "    .dataframe tbody tr th:only-of-type {\n",
       "        vertical-align: middle;\n",
       "    }\n",
       "\n",
       "    .dataframe tbody tr th {\n",
       "        vertical-align: top;\n",
       "    }\n",
       "\n",
       "    .dataframe thead th {\n",
       "        text-align: right;\n",
       "    }\n",
       "</style>\n",
       "<table border=\"1\" class=\"dataframe\">\n",
       "  <thead>\n",
       "    <tr style=\"text-align: right;\">\n",
       "      <th></th>\n",
       "      <th>0</th>\n",
       "      <th>1</th>\n",
       "      <th>2</th>\n",
       "      <th>3</th>\n",
       "      <th>4</th>\n",
       "      <th>5</th>\n",
       "      <th>6</th>\n",
       "      <th>7</th>\n",
       "      <th>8</th>\n",
       "      <th>9</th>\n",
       "      <th>10</th>\n",
       "      <th>11</th>\n",
       "      <th>12</th>\n",
       "      <th>13</th>\n",
       "      <th>14</th>\n",
       "      <th>15</th>\n",
       "      <th>16</th>\n",
       "    </tr>\n",
       "  </thead>\n",
       "  <tbody>\n",
       "    <tr>\n",
       "      <td>0</td>\n",
       "      <td>1.749893</td>\n",
       "      <td>3.062899</td>\n",
       "      <td>2.222365</td>\n",
       "      <td>3.068743</td>\n",
       "      <td>0.881938</td>\n",
       "      <td>0.789928</td>\n",
       "      <td>0.836790</td>\n",
       "      <td>0.792888</td>\n",
       "      <td>0.569768</td>\n",
       "      <td>0.518929</td>\n",
       "      <td>0.542852</td>\n",
       "      <td>0.520702</td>\n",
       "      <td>0.834022</td>\n",
       "      <td>0.709144</td>\n",
       "      <td>0.789176</td>\n",
       "      <td>0.708593</td>\n",
       "      <td>Fresh Papaya Leaf</td>\n",
       "    </tr>\n",
       "    <tr>\n",
       "      <td>1</td>\n",
       "      <td>0.973958</td>\n",
       "      <td>2.050565</td>\n",
       "      <td>1.597426</td>\n",
       "      <td>2.108881</td>\n",
       "      <td>0.973505</td>\n",
       "      <td>0.945987</td>\n",
       "      <td>0.952730</td>\n",
       "      <td>0.943764</td>\n",
       "      <td>0.755846</td>\n",
       "      <td>0.748174</td>\n",
       "      <td>0.751231</td>\n",
       "      <td>0.747684</td>\n",
       "      <td>0.982222</td>\n",
       "      <td>0.962667</td>\n",
       "      <td>0.970842</td>\n",
       "      <td>0.961605</td>\n",
       "      <td>Fresh Papaya Leaf</td>\n",
       "    </tr>\n",
       "    <tr>\n",
       "      <td>2</td>\n",
       "      <td>1.148805</td>\n",
       "      <td>2.764168</td>\n",
       "      <td>2.277512</td>\n",
       "      <td>2.787666</td>\n",
       "      <td>0.976294</td>\n",
       "      <td>0.945290</td>\n",
       "      <td>0.951699</td>\n",
       "      <td>0.944618</td>\n",
       "      <td>0.794646</td>\n",
       "      <td>0.785001</td>\n",
       "      <td>0.788239</td>\n",
       "      <td>0.785123</td>\n",
       "      <td>0.972863</td>\n",
       "      <td>0.934894</td>\n",
       "      <td>0.946200</td>\n",
       "      <td>0.934341</td>\n",
       "      <td>Fresh Papaya Leaf</td>\n",
       "    </tr>\n",
       "    <tr>\n",
       "      <td>3</td>\n",
       "      <td>0.663358</td>\n",
       "      <td>1.131642</td>\n",
       "      <td>0.800123</td>\n",
       "      <td>1.190235</td>\n",
       "      <td>0.984407</td>\n",
       "      <td>0.973292</td>\n",
       "      <td>0.979534</td>\n",
       "      <td>0.971856</td>\n",
       "      <td>0.652971</td>\n",
       "      <td>0.646309</td>\n",
       "      <td>0.650120</td>\n",
       "      <td>0.645156</td>\n",
       "      <td>0.979113</td>\n",
       "      <td>0.964460</td>\n",
       "      <td>0.974811</td>\n",
       "      <td>0.962620</td>\n",
       "      <td>Fresh Papaya Leaf</td>\n",
       "    </tr>\n",
       "    <tr>\n",
       "      <td>4</td>\n",
       "      <td>0.445312</td>\n",
       "      <td>0.772580</td>\n",
       "      <td>0.490074</td>\n",
       "      <td>0.743545</td>\n",
       "      <td>0.985087</td>\n",
       "      <td>0.972965</td>\n",
       "      <td>0.979264</td>\n",
       "      <td>0.972545</td>\n",
       "      <td>0.663605</td>\n",
       "      <td>0.655566</td>\n",
       "      <td>0.659423</td>\n",
       "      <td>0.655110</td>\n",
       "      <td>0.981232</td>\n",
       "      <td>0.967533</td>\n",
       "      <td>0.979352</td>\n",
       "      <td>0.968754</td>\n",
       "      <td>Fresh Papaya Leaf</td>\n",
       "    </tr>\n",
       "    <tr>\n",
       "      <td>...</td>\n",
       "      <td>...</td>\n",
       "      <td>...</td>\n",
       "      <td>...</td>\n",
       "      <td>...</td>\n",
       "      <td>...</td>\n",
       "      <td>...</td>\n",
       "      <td>...</td>\n",
       "      <td>...</td>\n",
       "      <td>...</td>\n",
       "      <td>...</td>\n",
       "      <td>...</td>\n",
       "      <td>...</td>\n",
       "      <td>...</td>\n",
       "      <td>...</td>\n",
       "      <td>...</td>\n",
       "      <td>...</td>\n",
       "      <td>...</td>\n",
       "    </tr>\n",
       "    <tr>\n",
       "      <td>285</td>\n",
       "      <td>4.138312</td>\n",
       "      <td>5.571826</td>\n",
       "      <td>4.151164</td>\n",
       "      <td>5.235002</td>\n",
       "      <td>0.746868</td>\n",
       "      <td>0.690419</td>\n",
       "      <td>0.749389</td>\n",
       "      <td>0.702806</td>\n",
       "      <td>0.440529</td>\n",
       "      <td>0.415262</td>\n",
       "      <td>0.441525</td>\n",
       "      <td>0.420721</td>\n",
       "      <td>0.726737</td>\n",
       "      <td>0.632278</td>\n",
       "      <td>0.726213</td>\n",
       "      <td>0.654507</td>\n",
       "      <td>Powdery Mildew</td>\n",
       "    </tr>\n",
       "    <tr>\n",
       "      <td>286</td>\n",
       "      <td>3.596967</td>\n",
       "      <td>4.367935</td>\n",
       "      <td>3.072901</td>\n",
       "      <td>4.525644</td>\n",
       "      <td>0.764670</td>\n",
       "      <td>0.726358</td>\n",
       "      <td>0.797768</td>\n",
       "      <td>0.725058</td>\n",
       "      <td>0.452173</td>\n",
       "      <td>0.434608</td>\n",
       "      <td>0.468508</td>\n",
       "      <td>0.433830</td>\n",
       "      <td>0.755916</td>\n",
       "      <td>0.703407</td>\n",
       "      <td>0.791471</td>\n",
       "      <td>0.692692</td>\n",
       "      <td>Powdery Mildew</td>\n",
       "    </tr>\n",
       "    <tr>\n",
       "      <td>287</td>\n",
       "      <td>2.784375</td>\n",
       "      <td>4.574133</td>\n",
       "      <td>3.655591</td>\n",
       "      <td>4.393126</td>\n",
       "      <td>0.829535</td>\n",
       "      <td>0.752815</td>\n",
       "      <td>0.790020</td>\n",
       "      <td>0.760927</td>\n",
       "      <td>0.505706</td>\n",
       "      <td>0.468395</td>\n",
       "      <td>0.486020</td>\n",
       "      <td>0.471917</td>\n",
       "      <td>0.843013</td>\n",
       "      <td>0.742147</td>\n",
       "      <td>0.794229</td>\n",
       "      <td>0.752350</td>\n",
       "      <td>Powdery Mildew</td>\n",
       "    </tr>\n",
       "    <tr>\n",
       "      <td>288</td>\n",
       "      <td>4.158333</td>\n",
       "      <td>5.112864</td>\n",
       "      <td>3.533088</td>\n",
       "      <td>5.351050</td>\n",
       "      <td>0.773023</td>\n",
       "      <td>0.734644</td>\n",
       "      <td>0.805629</td>\n",
       "      <td>0.731621</td>\n",
       "      <td>0.461764</td>\n",
       "      <td>0.444144</td>\n",
       "      <td>0.478032</td>\n",
       "      <td>0.442679</td>\n",
       "      <td>0.778622</td>\n",
       "      <td>0.727521</td>\n",
       "      <td>0.811869</td>\n",
       "      <td>0.714820</td>\n",
       "      <td>Powdery Mildew</td>\n",
       "    </tr>\n",
       "    <tr>\n",
       "      <td>289</td>\n",
       "      <td>2.860784</td>\n",
       "      <td>4.236647</td>\n",
       "      <td>3.285294</td>\n",
       "      <td>4.083599</td>\n",
       "      <td>0.844282</td>\n",
       "      <td>0.785203</td>\n",
       "      <td>0.825273</td>\n",
       "      <td>0.791170</td>\n",
       "      <td>0.499053</td>\n",
       "      <td>0.468593</td>\n",
       "      <td>0.489148</td>\n",
       "      <td>0.471848</td>\n",
       "      <td>0.840550</td>\n",
       "      <td>0.763376</td>\n",
       "      <td>0.816735</td>\n",
       "      <td>0.771908</td>\n",
       "      <td>Powdery Mildew</td>\n",
       "    </tr>\n",
       "  </tbody>\n",
       "</table>\n",
       "<p>290 rows × 17 columns</p>\n",
       "</div>"
      ],
      "text/plain": [
       "            0         1         2         3         4         5         6  \\\n",
       "0    1.749893  3.062899  2.222365  3.068743  0.881938  0.789928  0.836790   \n",
       "1    0.973958  2.050565  1.597426  2.108881  0.973505  0.945987  0.952730   \n",
       "2    1.148805  2.764168  2.277512  2.787666  0.976294  0.945290  0.951699   \n",
       "3    0.663358  1.131642  0.800123  1.190235  0.984407  0.973292  0.979534   \n",
       "4    0.445312  0.772580  0.490074  0.743545  0.985087  0.972965  0.979264   \n",
       "..        ...       ...       ...       ...       ...       ...       ...   \n",
       "285  4.138312  5.571826  4.151164  5.235002  0.746868  0.690419  0.749389   \n",
       "286  3.596967  4.367935  3.072901  4.525644  0.764670  0.726358  0.797768   \n",
       "287  2.784375  4.574133  3.655591  4.393126  0.829535  0.752815  0.790020   \n",
       "288  4.158333  5.112864  3.533088  5.351050  0.773023  0.734644  0.805629   \n",
       "289  2.860784  4.236647  3.285294  4.083599  0.844282  0.785203  0.825273   \n",
       "\n",
       "            7         8         9        10        11        12        13  \\\n",
       "0    0.792888  0.569768  0.518929  0.542852  0.520702  0.834022  0.709144   \n",
       "1    0.943764  0.755846  0.748174  0.751231  0.747684  0.982222  0.962667   \n",
       "2    0.944618  0.794646  0.785001  0.788239  0.785123  0.972863  0.934894   \n",
       "3    0.971856  0.652971  0.646309  0.650120  0.645156  0.979113  0.964460   \n",
       "4    0.972545  0.663605  0.655566  0.659423  0.655110  0.981232  0.967533   \n",
       "..        ...       ...       ...       ...       ...       ...       ...   \n",
       "285  0.702806  0.440529  0.415262  0.441525  0.420721  0.726737  0.632278   \n",
       "286  0.725058  0.452173  0.434608  0.468508  0.433830  0.755916  0.703407   \n",
       "287  0.760927  0.505706  0.468395  0.486020  0.471917  0.843013  0.742147   \n",
       "288  0.731621  0.461764  0.444144  0.478032  0.442679  0.778622  0.727521   \n",
       "289  0.791170  0.499053  0.468593  0.489148  0.471848  0.840550  0.763376   \n",
       "\n",
       "           14        15                 16  \n",
       "0    0.789176  0.708593  Fresh Papaya Leaf  \n",
       "1    0.970842  0.961605  Fresh Papaya Leaf  \n",
       "2    0.946200  0.934341  Fresh Papaya Leaf  \n",
       "3    0.974811  0.962620  Fresh Papaya Leaf  \n",
       "4    0.979352  0.968754  Fresh Papaya Leaf  \n",
       "..        ...       ...                ...  \n",
       "285  0.726213  0.654507     Powdery Mildew  \n",
       "286  0.791471  0.692692     Powdery Mildew  \n",
       "287  0.794229  0.752350     Powdery Mildew  \n",
       "288  0.811869  0.714820     Powdery Mildew  \n",
       "289  0.816735  0.771908     Powdery Mildew  \n",
       "\n",
       "[290 rows x 17 columns]"
      ]
     },
     "execution_count": 6,
     "metadata": {},
     "output_type": "execute_result"
    }
   ],
   "source": [
    "df"
   ]
  },
  {
   "cell_type": "code",
   "execution_count": 7,
   "metadata": {},
   "outputs": [],
   "source": [
    "encoder=LabelEncoder()"
   ]
  },
  {
   "cell_type": "code",
   "execution_count": 8,
   "metadata": {},
   "outputs": [],
   "source": [
    "df['16']=encoder.fit_transform(df['16'])"
   ]
  },
  {
   "cell_type": "code",
   "execution_count": 9,
   "metadata": {},
   "outputs": [
    {
     "data": {
      "text/html": [
       "<div>\n",
       "<style scoped>\n",
       "    .dataframe tbody tr th:only-of-type {\n",
       "        vertical-align: middle;\n",
       "    }\n",
       "\n",
       "    .dataframe tbody tr th {\n",
       "        vertical-align: top;\n",
       "    }\n",
       "\n",
       "    .dataframe thead th {\n",
       "        text-align: right;\n",
       "    }\n",
       "</style>\n",
       "<table border=\"1\" class=\"dataframe\">\n",
       "  <thead>\n",
       "    <tr style=\"text-align: right;\">\n",
       "      <th></th>\n",
       "      <th>0</th>\n",
       "      <th>1</th>\n",
       "      <th>2</th>\n",
       "      <th>3</th>\n",
       "      <th>4</th>\n",
       "      <th>5</th>\n",
       "      <th>6</th>\n",
       "      <th>7</th>\n",
       "      <th>8</th>\n",
       "      <th>9</th>\n",
       "      <th>10</th>\n",
       "      <th>11</th>\n",
       "      <th>12</th>\n",
       "      <th>13</th>\n",
       "      <th>14</th>\n",
       "      <th>15</th>\n",
       "      <th>16</th>\n",
       "    </tr>\n",
       "  </thead>\n",
       "  <tbody>\n",
       "    <tr>\n",
       "      <td>0</td>\n",
       "      <td>1.749893</td>\n",
       "      <td>3.062899</td>\n",
       "      <td>2.222365</td>\n",
       "      <td>3.068743</td>\n",
       "      <td>0.881938</td>\n",
       "      <td>0.789928</td>\n",
       "      <td>0.836790</td>\n",
       "      <td>0.792888</td>\n",
       "      <td>0.569768</td>\n",
       "      <td>0.518929</td>\n",
       "      <td>0.542852</td>\n",
       "      <td>0.520702</td>\n",
       "      <td>0.834022</td>\n",
       "      <td>0.709144</td>\n",
       "      <td>0.789176</td>\n",
       "      <td>0.708593</td>\n",
       "      <td>0</td>\n",
       "    </tr>\n",
       "    <tr>\n",
       "      <td>1</td>\n",
       "      <td>0.973958</td>\n",
       "      <td>2.050565</td>\n",
       "      <td>1.597426</td>\n",
       "      <td>2.108881</td>\n",
       "      <td>0.973505</td>\n",
       "      <td>0.945987</td>\n",
       "      <td>0.952730</td>\n",
       "      <td>0.943764</td>\n",
       "      <td>0.755846</td>\n",
       "      <td>0.748174</td>\n",
       "      <td>0.751231</td>\n",
       "      <td>0.747684</td>\n",
       "      <td>0.982222</td>\n",
       "      <td>0.962667</td>\n",
       "      <td>0.970842</td>\n",
       "      <td>0.961605</td>\n",
       "      <td>0</td>\n",
       "    </tr>\n",
       "    <tr>\n",
       "      <td>2</td>\n",
       "      <td>1.148805</td>\n",
       "      <td>2.764168</td>\n",
       "      <td>2.277512</td>\n",
       "      <td>2.787666</td>\n",
       "      <td>0.976294</td>\n",
       "      <td>0.945290</td>\n",
       "      <td>0.951699</td>\n",
       "      <td>0.944618</td>\n",
       "      <td>0.794646</td>\n",
       "      <td>0.785001</td>\n",
       "      <td>0.788239</td>\n",
       "      <td>0.785123</td>\n",
       "      <td>0.972863</td>\n",
       "      <td>0.934894</td>\n",
       "      <td>0.946200</td>\n",
       "      <td>0.934341</td>\n",
       "      <td>0</td>\n",
       "    </tr>\n",
       "    <tr>\n",
       "      <td>3</td>\n",
       "      <td>0.663358</td>\n",
       "      <td>1.131642</td>\n",
       "      <td>0.800123</td>\n",
       "      <td>1.190235</td>\n",
       "      <td>0.984407</td>\n",
       "      <td>0.973292</td>\n",
       "      <td>0.979534</td>\n",
       "      <td>0.971856</td>\n",
       "      <td>0.652971</td>\n",
       "      <td>0.646309</td>\n",
       "      <td>0.650120</td>\n",
       "      <td>0.645156</td>\n",
       "      <td>0.979113</td>\n",
       "      <td>0.964460</td>\n",
       "      <td>0.974811</td>\n",
       "      <td>0.962620</td>\n",
       "      <td>0</td>\n",
       "    </tr>\n",
       "    <tr>\n",
       "      <td>4</td>\n",
       "      <td>0.445312</td>\n",
       "      <td>0.772580</td>\n",
       "      <td>0.490074</td>\n",
       "      <td>0.743545</td>\n",
       "      <td>0.985087</td>\n",
       "      <td>0.972965</td>\n",
       "      <td>0.979264</td>\n",
       "      <td>0.972545</td>\n",
       "      <td>0.663605</td>\n",
       "      <td>0.655566</td>\n",
       "      <td>0.659423</td>\n",
       "      <td>0.655110</td>\n",
       "      <td>0.981232</td>\n",
       "      <td>0.967533</td>\n",
       "      <td>0.979352</td>\n",
       "      <td>0.968754</td>\n",
       "      <td>0</td>\n",
       "    </tr>\n",
       "    <tr>\n",
       "      <td>...</td>\n",
       "      <td>...</td>\n",
       "      <td>...</td>\n",
       "      <td>...</td>\n",
       "      <td>...</td>\n",
       "      <td>...</td>\n",
       "      <td>...</td>\n",
       "      <td>...</td>\n",
       "      <td>...</td>\n",
       "      <td>...</td>\n",
       "      <td>...</td>\n",
       "      <td>...</td>\n",
       "      <td>...</td>\n",
       "      <td>...</td>\n",
       "      <td>...</td>\n",
       "      <td>...</td>\n",
       "      <td>...</td>\n",
       "      <td>...</td>\n",
       "    </tr>\n",
       "    <tr>\n",
       "      <td>285</td>\n",
       "      <td>4.138312</td>\n",
       "      <td>5.571826</td>\n",
       "      <td>4.151164</td>\n",
       "      <td>5.235002</td>\n",
       "      <td>0.746868</td>\n",
       "      <td>0.690419</td>\n",
       "      <td>0.749389</td>\n",
       "      <td>0.702806</td>\n",
       "      <td>0.440529</td>\n",
       "      <td>0.415262</td>\n",
       "      <td>0.441525</td>\n",
       "      <td>0.420721</td>\n",
       "      <td>0.726737</td>\n",
       "      <td>0.632278</td>\n",
       "      <td>0.726213</td>\n",
       "      <td>0.654507</td>\n",
       "      <td>4</td>\n",
       "    </tr>\n",
       "    <tr>\n",
       "      <td>286</td>\n",
       "      <td>3.596967</td>\n",
       "      <td>4.367935</td>\n",
       "      <td>3.072901</td>\n",
       "      <td>4.525644</td>\n",
       "      <td>0.764670</td>\n",
       "      <td>0.726358</td>\n",
       "      <td>0.797768</td>\n",
       "      <td>0.725058</td>\n",
       "      <td>0.452173</td>\n",
       "      <td>0.434608</td>\n",
       "      <td>0.468508</td>\n",
       "      <td>0.433830</td>\n",
       "      <td>0.755916</td>\n",
       "      <td>0.703407</td>\n",
       "      <td>0.791471</td>\n",
       "      <td>0.692692</td>\n",
       "      <td>4</td>\n",
       "    </tr>\n",
       "    <tr>\n",
       "      <td>287</td>\n",
       "      <td>2.784375</td>\n",
       "      <td>4.574133</td>\n",
       "      <td>3.655591</td>\n",
       "      <td>4.393126</td>\n",
       "      <td>0.829535</td>\n",
       "      <td>0.752815</td>\n",
       "      <td>0.790020</td>\n",
       "      <td>0.760927</td>\n",
       "      <td>0.505706</td>\n",
       "      <td>0.468395</td>\n",
       "      <td>0.486020</td>\n",
       "      <td>0.471917</td>\n",
       "      <td>0.843013</td>\n",
       "      <td>0.742147</td>\n",
       "      <td>0.794229</td>\n",
       "      <td>0.752350</td>\n",
       "      <td>4</td>\n",
       "    </tr>\n",
       "    <tr>\n",
       "      <td>288</td>\n",
       "      <td>4.158333</td>\n",
       "      <td>5.112864</td>\n",
       "      <td>3.533088</td>\n",
       "      <td>5.351050</td>\n",
       "      <td>0.773023</td>\n",
       "      <td>0.734644</td>\n",
       "      <td>0.805629</td>\n",
       "      <td>0.731621</td>\n",
       "      <td>0.461764</td>\n",
       "      <td>0.444144</td>\n",
       "      <td>0.478032</td>\n",
       "      <td>0.442679</td>\n",
       "      <td>0.778622</td>\n",
       "      <td>0.727521</td>\n",
       "      <td>0.811869</td>\n",
       "      <td>0.714820</td>\n",
       "      <td>4</td>\n",
       "    </tr>\n",
       "    <tr>\n",
       "      <td>289</td>\n",
       "      <td>2.860784</td>\n",
       "      <td>4.236647</td>\n",
       "      <td>3.285294</td>\n",
       "      <td>4.083599</td>\n",
       "      <td>0.844282</td>\n",
       "      <td>0.785203</td>\n",
       "      <td>0.825273</td>\n",
       "      <td>0.791170</td>\n",
       "      <td>0.499053</td>\n",
       "      <td>0.468593</td>\n",
       "      <td>0.489148</td>\n",
       "      <td>0.471848</td>\n",
       "      <td>0.840550</td>\n",
       "      <td>0.763376</td>\n",
       "      <td>0.816735</td>\n",
       "      <td>0.771908</td>\n",
       "      <td>4</td>\n",
       "    </tr>\n",
       "  </tbody>\n",
       "</table>\n",
       "<p>290 rows × 17 columns</p>\n",
       "</div>"
      ],
      "text/plain": [
       "            0         1         2         3         4         5         6  \\\n",
       "0    1.749893  3.062899  2.222365  3.068743  0.881938  0.789928  0.836790   \n",
       "1    0.973958  2.050565  1.597426  2.108881  0.973505  0.945987  0.952730   \n",
       "2    1.148805  2.764168  2.277512  2.787666  0.976294  0.945290  0.951699   \n",
       "3    0.663358  1.131642  0.800123  1.190235  0.984407  0.973292  0.979534   \n",
       "4    0.445312  0.772580  0.490074  0.743545  0.985087  0.972965  0.979264   \n",
       "..        ...       ...       ...       ...       ...       ...       ...   \n",
       "285  4.138312  5.571826  4.151164  5.235002  0.746868  0.690419  0.749389   \n",
       "286  3.596967  4.367935  3.072901  4.525644  0.764670  0.726358  0.797768   \n",
       "287  2.784375  4.574133  3.655591  4.393126  0.829535  0.752815  0.790020   \n",
       "288  4.158333  5.112864  3.533088  5.351050  0.773023  0.734644  0.805629   \n",
       "289  2.860784  4.236647  3.285294  4.083599  0.844282  0.785203  0.825273   \n",
       "\n",
       "            7         8         9        10        11        12        13  \\\n",
       "0    0.792888  0.569768  0.518929  0.542852  0.520702  0.834022  0.709144   \n",
       "1    0.943764  0.755846  0.748174  0.751231  0.747684  0.982222  0.962667   \n",
       "2    0.944618  0.794646  0.785001  0.788239  0.785123  0.972863  0.934894   \n",
       "3    0.971856  0.652971  0.646309  0.650120  0.645156  0.979113  0.964460   \n",
       "4    0.972545  0.663605  0.655566  0.659423  0.655110  0.981232  0.967533   \n",
       "..        ...       ...       ...       ...       ...       ...       ...   \n",
       "285  0.702806  0.440529  0.415262  0.441525  0.420721  0.726737  0.632278   \n",
       "286  0.725058  0.452173  0.434608  0.468508  0.433830  0.755916  0.703407   \n",
       "287  0.760927  0.505706  0.468395  0.486020  0.471917  0.843013  0.742147   \n",
       "288  0.731621  0.461764  0.444144  0.478032  0.442679  0.778622  0.727521   \n",
       "289  0.791170  0.499053  0.468593  0.489148  0.471848  0.840550  0.763376   \n",
       "\n",
       "           14        15  16  \n",
       "0    0.789176  0.708593   0  \n",
       "1    0.970842  0.961605   0  \n",
       "2    0.946200  0.934341   0  \n",
       "3    0.974811  0.962620   0  \n",
       "4    0.979352  0.968754   0  \n",
       "..        ...       ...  ..  \n",
       "285  0.726213  0.654507   4  \n",
       "286  0.791471  0.692692   4  \n",
       "287  0.794229  0.752350   4  \n",
       "288  0.811869  0.714820   4  \n",
       "289  0.816735  0.771908   4  \n",
       "\n",
       "[290 rows x 17 columns]"
      ]
     },
     "execution_count": 9,
     "metadata": {},
     "output_type": "execute_result"
    }
   ],
   "source": [
    "df"
   ]
  },
  {
   "cell_type": "code",
   "execution_count": 100,
   "metadata": {},
   "outputs": [],
   "source": [
    "y=df['16']\n",
    "x=df.drop('16',axis=1)\n",
    "x=(x-x.min())/(x.max()-x.min())\n",
    "#x=(x-x.mean())/x.std()"
   ]
  },
  {
   "cell_type": "code",
   "execution_count": 101,
   "metadata": {},
   "outputs": [
    {
     "data": {
      "text/plain": [
       "3    73\n",
       "4    65\n",
       "0    64\n",
       "1    54\n",
       "2    34\n",
       "Name: 16, dtype: int64"
      ]
     },
     "execution_count": 101,
     "metadata": {},
     "output_type": "execute_result"
    }
   ],
   "source": [
    "y.value_counts()"
   ]
  },
  {
   "cell_type": "code",
   "execution_count": 102,
   "metadata": {},
   "outputs": [],
   "source": [
    "smote=SMOTE(sampling_strategy=\"minority\")\n",
    "x_sm,y_sm=smote.fit_resample(x,y)"
   ]
  },
  {
   "cell_type": "code",
   "execution_count": 103,
   "metadata": {},
   "outputs": [
    {
     "data": {
      "text/plain": [
       "3    73\n",
       "2    73\n",
       "4    65\n",
       "0    64\n",
       "1    54\n",
       "Name: 16, dtype: int64"
      ]
     },
     "execution_count": 103,
     "metadata": {},
     "output_type": "execute_result"
    }
   ],
   "source": [
    "y_sm.value_counts()"
   ]
  },
  {
   "cell_type": "code",
   "execution_count": 104,
   "metadata": {},
   "outputs": [],
   "source": [
    "x_train,x_test,y_train,y_test=train_test_split(x_sm,y_sm,stratify=y_sm)"
   ]
  },
  {
   "cell_type": "code",
   "execution_count": 105,
   "metadata": {},
   "outputs": [],
   "source": [
    "knn=KNeighborsClassifier(n_neighbors=5)\n"
   ]
  },
  {
   "cell_type": "code",
   "execution_count": 106,
   "metadata": {},
   "outputs": [
    {
     "data": {
      "text/plain": [
       "array([[0.14814432, 0.23974446, 0.21660316, ..., 0.42839744, 0.45572288,\n",
       "        0.44802459],\n",
       "       [0.06626633, 0.14333377, 0.14601134, ..., 0.96690853, 0.9507277 ,\n",
       "        0.96062123],\n",
       "       [0.08471647, 0.21129446, 0.22283246, ..., 0.90791616, 0.8835821 ,\n",
       "        0.90538405],\n",
       "       ...,\n",
       "       [0.32686528, 0.46321614, 0.43671563, ..., 0.80866372, 0.79303401,\n",
       "        0.81754578],\n",
       "       [0.51521525, 0.75608796, 0.77966242, ..., 0.46204361, 0.3938518 ,\n",
       "        0.45001046],\n",
       "       [0.44244698, 0.69243516, 0.71638325, ..., 0.46512445, 0.39628453,\n",
       "        0.48023243]])"
      ]
     },
     "execution_count": 106,
     "metadata": {},
     "output_type": "execute_result"
    }
   ],
   "source": [
    "np.array(x_sm)"
   ]
  },
  {
   "cell_type": "code",
   "execution_count": 107,
   "metadata": {},
   "outputs": [],
   "source": [
    "\n",
    "from mlxtend.plotting import plot_decision_regions\n",
    "\n"
   ]
  },
  {
   "cell_type": "code",
   "execution_count": 108,
   "metadata": {},
   "outputs": [
    {
     "data": {
      "image/png": "[encoded data removed]",
      "text/plain": [
       "<Figure size 432x288 with 1 Axes>"
      ]
     },
     "metadata": {
      "needs_background": "light"
     },
     "output_type": "display_data"
    }
   ],
   "source": [
    "from sklearn.decomposition import PCA\n",
    "from mlxtend.plotting import plot_decision_regions\n",
    "pca = PCA(n_components = 2)\n",
    "x_train = pca.fit_transform(x_train)\n",
    "knn.fit(x_train,y_train)\n",
    "import seaborn as sns\n",
    "plot_decision_regions(np.array(x_train), np.array(y_train), clf=knn, legend=5)\n",
    "plt.plot(10,3,color='black')\n",
    "plt.show()"
   ]
  },
  {
   "cell_type": "code",
   "execution_count": 67,
   "metadata": {},
   "outputs": [
    {
     "data": {
      "text/plain": [
       "KNeighborsClassifier()"
      ]
     },
     "execution_count": 67,
     "metadata": {},
     "output_type": "execute_result"
    }
   ],
   "source": [
    "knn.fit(x_train,y_train)"
   ]
  },
  {
   "cell_type": "code",
   "execution_count": 71,
   "metadata": {},
   "outputs": [
    {
     "data": {
      "image/png": "[encoded data removed]",
      "text/plain": [
       "<Figure size 432x288 with 1 Axes>"
      ]
     },
     "metadata": {
      "needs_background": "light"
     },
     "output_type": "display_data"
    }
   ],
   "source": [
    "from mlxtend.plotting import plot_decision_regions\n",
    "import seaborn as sns\n",
    "plot_decision_regions(np.array(x_train), np.array(y_train), clf=knn, legend=5)\n",
    "plt.plot(10,3,color='black')\n",
    "plt.show()"
   ]
  },
  {
   "cell_type": "code",
   "execution_count": 99,
   "metadata": {},
   "outputs": [
    {
     "data": {
      "image/png": "[encoded data removed]",
      "text/plain": [
       "<Figure size 432x288 with 1 Axes>"
      ]
     },
     "metadata": {
      "needs_background": "light"
     },
     "output_type": "display_data"
    },
    {
     "data": {
      "image/png": "[encoded data removed]",
      "text/plain": [
       "<Figure size 432x288 with 1 Axes>"
      ]
     },
     "metadata": {
      "needs_background": "light"
     },
     "output_type": "display_data"
    }
   ],
   "source": [
    "import numpy as np\n",
    "import matplotlib.pyplot as plt\n",
    "from matplotlib.colors import ListedColormap\n",
    "from sklearn import neighbors, datasets\n",
    "\n",
    "n_neighbors = 15\n",
    "\n",
    "# import some data to play with\n",
    "iris = datasets.load_iris()\n",
    "X = x_train  # we only take the first two features. We could\n",
    "                      # avoid this ugly slicing by using a two-dim dataset\n",
    "y = y_train\n",
    "\n",
    "h = .02  # step size in the mesh\n",
    "\n",
    "# Create color maps\n",
    "cmap_light = ListedColormap(['orange', 'cyan', 'cornflowerblue','green','pink','white'])\n",
    "cmap_bold = ListedColormap(['darkorange', 'c', 'darkblue','darkgreen','black','red'])\n",
    "\n",
    "for weights in ['uniform', 'distance']:\n",
    "    # we create an instance of Neighbours Classifier and fit the data.\n",
    "    clf = neighbors.KNeighborsClassifier(n_neighbors, weights=weights)\n",
    "    clf.fit(X, y)\n",
    "\n",
    "    # Plot the decision boundary. For that, we will assign a color to each\n",
    "    # point in the mesh [x_min, x_max]x[y_min, y_max].\n",
    "    x_min, x_max = X[:, 0].min() - 1, X[:, 0].max() + 1\n",
    "    y_min, y_max = X[:, 1].min() - 1, X[:, 1].max() + 1\n",
    "    xx, yy = np.meshgrid(np.arange(x_min, x_max, h),\n",
    "                         np.arange(y_min, y_max, h))\n",
    "    Z = clf.predict(np.c_[xx.ravel(), yy.ravel()])\n",
    "\n",
    "    # Put the result into a color plot\n",
    "    Z = Z.reshape(xx.shape)\n",
    "    plt.figure()\n",
    "    plt.pcolormesh(xx, yy, Z, cmap=cmap_light)\n",
    "\n",
    "    # Plot also the training points\n",
    "    plt.scatter(X[:, 0], X[:, 1], c=y, cmap=cmap_bold)\n",
    "    plt.xlim(xx.min(), xx.max())\n",
    "    plt.ylim(yy.min(), yy.max())\n",
    "    plt.title(\"3-Class classification (k = %i, weights = '%s')\"\n",
    "              % (n_neighbors, weights))\n",
    "\n",
    "plt.show()"
   ]
  },
  {
   "cell_type": "code",
   "execution_count": 819,
   "metadata": {},
   "outputs": [],
   "source": [
    "y_pred=knn.predict(x_test)"
   ]
  },
  {
   "cell_type": "code",
   "execution_count": 820,
   "metadata": {},
   "outputs": [
    {
     "name": "stdout",
     "output_type": "stream",
     "text": [
      "              precision    recall  f1-score   support\n",
      "\n",
      "           0       0.68      0.81      0.74        16\n",
      "           1       0.57      0.57      0.57        14\n",
      "           2       0.50      0.78      0.61        18\n",
      "           3       0.59      0.53      0.56        19\n",
      "           4       0.40      0.12      0.19        16\n",
      "\n",
      "    accuracy                           0.57        83\n",
      "   macro avg       0.55      0.56      0.53        83\n",
      "weighted avg       0.55      0.57      0.54        83\n",
      "\n"
     ]
    }
   ],
   "source": [
    "print(classification_report(y_test,y_pred))"
   ]
  },
  {
   "cell_type": "code",
   "execution_count": 821,
   "metadata": {},
   "outputs": [],
   "source": [
    "dt=DecisionTreeClassifier(criterion=\"gini\")"
   ]
  },
  {
   "cell_type": "code",
   "execution_count": 822,
   "metadata": {},
   "outputs": [
    {
     "data": {
      "text/plain": [
       "DecisionTreeClassifier()"
      ]
     },
     "execution_count": 822,
     "metadata": {},
     "output_type": "execute_result"
    }
   ],
   "source": [
    "dt.fit(x_train,y_train)"
   ]
  },
  {
   "cell_type": "code",
   "execution_count": 823,
   "metadata": {},
   "outputs": [],
   "source": [
    "pred_d=dt.predict(x_test)"
   ]
  },
  {
   "cell_type": "code",
   "execution_count": 824,
   "metadata": {},
   "outputs": [
    {
     "name": "stdout",
     "output_type": "stream",
     "text": [
      "              precision    recall  f1-score   support\n",
      "\n",
      "           0       0.86      0.75      0.80        16\n",
      "           1       0.50      0.29      0.36        14\n",
      "           2       0.68      0.72      0.70        18\n",
      "           3       0.46      0.58      0.51        19\n",
      "           4       0.44      0.50      0.47        16\n",
      "\n",
      "    accuracy                           0.58        83\n",
      "   macro avg       0.59      0.57      0.57        83\n",
      "weighted avg       0.59      0.58      0.58        83\n",
      "\n"
     ]
    }
   ],
   "source": [
    "print(classification_report(y_test,pred_d))"
   ]
  },
  {
   "cell_type": "code",
   "execution_count": null,
   "metadata": {},
   "outputs": [],
   "source": []
  }
 ],
 "metadata": {
  "kernelspec": {
   "display_name": "Python 3",
   "language": "python",
   "name": "python3"
  },
  "language_info": {
   "codemirror_mode": {
    "name": "ipython",
    "version": 3
   },
   "file_extension": ".py",
   "mimetype": "text/x-python",
   "name": "python",
   "nbconvert_exporter": "python",
   "pygments_lexer": "ipython3",
   "version": "3.7.4"
  }
 },
 "nbformat": 4,
 "nbformat_minor": 2
}
